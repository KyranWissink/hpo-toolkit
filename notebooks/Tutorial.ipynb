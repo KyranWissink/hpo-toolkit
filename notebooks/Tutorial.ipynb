{
 "cells": [
  {
   "cell_type": "markdown",
   "id": "def60811-bf0a-4acc-b907-922824f65fc0",
   "metadata": {
    "tags": []
   },
   "source": [
    "**Hpo-toolkit tutorial**\n",
    "\n",
    "This notebook shows how to install and use `hpo-toolkit` for work with Human Phenotype Ontology (HPO).\n",
    "\n",
    "# Installation\n",
    "\n",
    "The toolkit is available at [PyPi](https://pypi.org/project/hpo-toolkit), so installation with `pip` is really easy:"
   ]
  },
  {
   "cell_type": "raw",
   "id": "a78a7544-7d66-468c-b2a6-8aec166ac406",
   "metadata": {},
   "source": [
    "!pip install hpo-toolkit"
   ]
  },
  {
   "cell_type": "markdown",
   "id": "6e41fb89-d16e-427f-8e53-ec92710af8c8",
   "metadata": {},
   "source": [
    "# Load HPO\n",
    "\n",
    "`hpo-toolkit` supports reading ontologies in [Obographs](https://github.com/geneontology/obographs) JSON format.\n",
    "\n",
    "We can download and open the latest HPO from *https://raw.githubusercontent.com/obophenotype/human-phenotype-ontology/master/hp.json*"
   ]
  },
  {
   "cell_type": "code",
   "execution_count": 1,
   "id": "7df53743-202e-4786-9beb-be1322605e2b",
   "metadata": {},
   "outputs": [
    {
     "name": "stderr",
     "output_type": "stream",
     "text": [
      "2022-12-28 15:13:34,520 hpotk.util           DEBUG : Opening https://raw.githubusercontent.com/obophenotype/human-phenotype-ontology/master/hp.json\n",
      "2022-12-28 15:13:34,521 hpotk.util           DEBUG : Using default encoding 'utf-8'\n",
      "2022-12-28 15:13:34,522 hpotk.util           DEBUG : Looks like a URL: https://raw.githubusercontent.com/obophenotype/human-phenotype-ontology/master/hp.json\n",
      "2022-12-28 15:13:34,522 hpotk.util           DEBUG : Downloading with timeout=30s\n",
      "2022-12-28 15:13:34,625 hpotk.util           DEBUG : Looks like un-compressed data\n",
      "2022-12-28 15:13:38,696 hpotk.ontology.load.obographs._load DEBUG : Extracting ontology terms\n",
      "2022-12-28 15:13:38,696 hpotk.ontology.io.obographs DEBUG : Missing node type in {'id': 'http://purl.obolibrary.org/obo/GO_0000016', 'lbl': 'lactase activity'}\n",
      "2022-12-28 15:13:38,697 hpotk.ontology.io.obographs DEBUG : Missing node type in {'id': 'http://purl.obolibrary.org/obo/GO_0003857', 'lbl': '3-hydroxyacyl-CoA dehydrogenase activity'}\n",
      "2022-12-28 15:13:38,698 hpotk.ontology.io.obographs DEBUG : Missing node type in {'id': 'http://purl.obolibrary.org/obo/BFO_0000051', 'lbl': 'has part', 'meta': {'basicPropertyValues': [{'pred': 'http://www.geneontology.org/formats/oboInOwl#shorthand', 'val': 'has_part'}], 'xrefs': [{'val': 'BFO:0000051'}]}}\n",
      "2022-12-28 15:13:38,699 hpotk.ontology.io.obographs DEBUG : Missing node type in {'id': 'http://purl.obolibrary.org/obo/BFO_0000066', 'lbl': 'occurs in', 'meta': {'basicPropertyValues': [{'pred': 'http://www.geneontology.org/formats/oboInOwl#shorthand', 'val': 'occurs_in'}], 'xrefs': [{'val': 'BFO:0000066'}]}}\n",
      "2022-12-28 15:13:38,699 hpotk.ontology.io.obographs DEBUG : Missing node type in {'id': 'http://purl.obolibrary.org/obo/RO_0002503', 'lbl': 'towards', 'meta': {'basicPropertyValues': [{'pred': 'http://www.geneontology.org/formats/oboInOwl#shorthand', 'val': 'towards'}], 'xrefs': [{'val': 'RO:0002503'}]}}\n",
      "2022-12-28 15:13:38,700 hpotk.ontology.io.obographs DEBUG : Missing node type in {'id': 'http://purl.obolibrary.org/obo/RO_0002573', 'lbl': 'has modifier', 'meta': {'basicPropertyValues': [{'pred': 'http://www.geneontology.org/formats/oboInOwl#shorthand', 'val': 'qualifier'}], 'comments': ['placeholder relation to indicate normality/abnormality.'], 'xrefs': [{'val': 'RO:0002180'}]}}\n",
      "2022-12-28 15:13:38,989 hpotk.ontology.load.obographs._load DEBUG : Creating the edge list\n",
      "2022-12-28 15:13:39,056 hpotk.ontology.load.obographs._load DEBUG : Building ontology graph\n",
      "2022-12-28 15:13:39,056 hpotk.graph._factory DEBUG : Creating ontology graph from 21071 edges\n",
      "2022-12-28 15:13:39,103 hpotk.graph._factory DEBUG : Found root HP:0000001\n",
      "2022-12-28 15:13:39,132 hpotk.graph._factory DEBUG : Extracted 16810 nodes\n",
      "2022-12-28 15:13:39,133 hpotk.graph._factory DEBUG : Building a connectivity matrix\n",
      "2022-12-28 15:14:59,464 hpotk.graph._factory DEBUG : Assembling immutable connectivity matrix\n",
      "2022-12-28 15:14:59,478 hpotk.graph._factory DEBUG : Finalizing the ontology graph\n",
      "2022-12-28 15:14:59,501 hpotk.ontology.load.obographs._load DEBUG : Assemblying the ontology\n"
     ]
    }
   ],
   "source": [
    "import hpotk\n",
    "from hpotk.ontology import Ontology\n",
    "from hpotk.ontology.load.obographs import load_ontology\n",
    "\n",
    "# to peek under the hood\n",
    "import logging\n",
    "hpotk.util.setup_logging(logging.DEBUG)\n",
    "\n",
    "o: Ontology = load_ontology('https://raw.githubusercontent.com/obophenotype/human-phenotype-ontology/master/hp.json')"
   ]
  },
  {
   "cell_type": "markdown",
   "id": "9f42c509-c889-42a1-b539-c95f2abeff74",
   "metadata": {},
   "source": [
    "The code downloads the latest HPO JSON file and creates the file into `Ontology`.\n",
    "\n",
    "# `Ontology`\n",
    "\n",
    "`hpo-toolkit` provides  - a container for ontology data and several data structures for modeling ontology data.\n",
    "- `TermId` - an identifier of an ontology concept.\n",
    "- `Term` - a class for representing ontology concept data\n",
    "- `OntologyGraph` - graph for storing hierarchy between ontology concepts\n",
    "- `Ontology` - a top-level container consisting of an `OntologyGraph`, non-obsolete `Term`s, and all (primary and obsolete) `TermId`s of an ontology, along with additional metadata."
   ]
  },
  {
   "cell_type": "markdown",
   "id": "db15d7f4-8e17-4806-8d8e-da43738e2c63",
   "metadata": {},
   "source": [
    "This section provides an overview of `hpo-toolkit`s functionality.\n",
    "\n",
    "## Get all `Term`s and `TermId`s\n",
    "\n",
    "All `TermId`s, both primary and obsolete can be iterated over via `o.term_ids` property:"
   ]
  },
  {
   "cell_type": "code",
   "execution_count": 2,
   "id": "3808f2a0-607d-49ac-b6d3-299cc37c04a4",
   "metadata": {},
   "outputs": [
    {
     "name": "stdout",
     "output_type": "stream",
     "text": [
      "TermId(prefix=\"HP\", id=\"0000001\")\n"
     ]
    }
   ],
   "source": [
    "print(next(iter(o.term_ids)))"
   ]
  },
  {
   "cell_type": "markdown",
   "id": "5f2e0318-98d6-412f-94cd-88a38dd2f2de",
   "metadata": {},
   "source": [
    "Similarly, you can iterate over ontology `Term`s via `hpo.terms`:"
   ]
  },
  {
   "cell_type": "code",
   "execution_count": 3,
   "id": "a7de11f9-c14f-4c7b-8b4c-2b35979b717a",
   "metadata": {},
   "outputs": [
    {
     "name": "stdout",
     "output_type": "stream",
     "text": [
      "Term(identifier=TermId(prefix=\"HP\", id=\"0000001\"), name=\"All\", definition=None, comment=Root of all terms in the Human Phenotype Ontology., is_obsolete=False, alt_term_ids=\"[]\")\n"
     ]
    }
   ],
   "source": [
    "print(next(iter(o.terms)))"
   ]
  },
  {
   "cell_type": "markdown",
   "id": "e15c75f3-4578-4a08-a7eb-3b5ff45b30f4",
   "metadata": {},
   "source": [
    "and get the number of the primary (non-obsolete) `Term`s:"
   ]
  },
  {
   "cell_type": "code",
   "execution_count": 4,
   "id": "3984e0ab-4540-4f78-b575-e7d18987a57b",
   "metadata": {},
   "outputs": [
    {
     "data": {
      "text/plain": [
       "16810"
      ]
     },
     "execution_count": 4,
     "metadata": {},
     "output_type": "execute_result"
    }
   ],
   "source": [
    "len(o)"
   ]
  },
  {
   "cell_type": "markdown",
   "id": "fc5d1682-cbe0-4b9d-8d2d-77b8668e9a7f",
   "metadata": {},
   "source": [
    "## Query `Term`\n",
    "\n",
    "### Test presence of a `TermId` in the ontology\n",
    "\n",
    "Presence of a `TermId` can be tested in the same fashion as you would test the presence of an element in a Python container:"
   ]
  },
  {
   "cell_type": "code",
   "execution_count": 5,
   "id": "c986d756-6b64-400a-acf0-1e1215dd5149",
   "metadata": {},
   "outputs": [
    {
     "data": {
      "text/plain": [
       "True"
      ]
     },
     "execution_count": 5,
     "metadata": {},
     "output_type": "execute_result"
    }
   ],
   "source": [
    "current_arachnodactyly_id = \"HP:0001166\"  # as of Dec 28th, 2022\n",
    "\n",
    "current_arachnodactyly_id in o"
   ]
  },
  {
   "cell_type": "markdown",
   "id": "cead94e2-39b1-4b4a-a8b4-8e8a09a92367",
   "metadata": {},
   "source": [
    "The test works both for primary and obsolete `TermId`s:"
   ]
  },
  {
   "cell_type": "code",
   "execution_count": 6,
   "id": "d33352e5-ecc4-4246-bca4-4f537bdcd921",
   "metadata": {},
   "outputs": [
    {
     "data": {
      "text/plain": [
       "True"
      ]
     },
     "execution_count": 6,
     "metadata": {},
     "output_type": "execute_result"
    }
   ],
   "source": [
    "obsolete_arachnodactyly_id = \"HP:0001505\"\n",
    "\n",
    "obsolete_arachnodactyly_id in o"
   ]
  },
  {
   "cell_type": "markdown",
   "id": "bc6012bc-f8e5-4cc7-918a-069c92fd4e62",
   "metadata": {},
   "source": [
    "Queries work with a simple CURIE `str` (e.g. `HP:0001166`) or a `TermId`:"
   ]
  },
  {
   "cell_type": "code",
   "execution_count": 7,
   "id": "b1d6b18d-b073-4e04-85ee-4f8198da149e",
   "metadata": {},
   "outputs": [],
   "source": [
    "from hpotk.model import TermId\n",
    "assert current_arachnodactyly_id in o and TermId.from_curie(current_arachnodactyly_id) in o"
   ]
  },
  {
   "cell_type": "markdown",
   "id": "10ff2cc9-bb32-4c7e-9952-0402cd9f8543",
   "metadata": {},
   "source": [
    "### Get a specific `Term`\n",
    "\n",
    "Use the `get_term` method to get ahold of a specific `Term`:"
   ]
  },
  {
   "cell_type": "code",
   "execution_count": 8,
   "id": "5a4465bd-0bad-4b78-be82-79a4bc1a3dfe",
   "metadata": {},
   "outputs": [
    {
     "data": {
      "text/plain": [
       "Term(identifier=TermId(prefix=\"HP\", id=\"0001166\"), name=\"Arachnodactyly\", definition=Abnormally long and slender fingers (\"spider fingers\")., comment=None, is_obsolete=False, alt_term_ids=\"[TermId(prefix=\"HP\", id=\"0001505\")]\")"
      ]
     },
     "execution_count": 8,
     "metadata": {},
     "output_type": "execute_result"
    }
   ],
   "source": [
    "arachnodactyly = o.get_term(current_arachnodactyly_id)\n",
    "arachnodactyly"
   ]
  },
  {
   "cell_type": "markdown",
   "id": "68f50a4f-bef6-4cfc-afbe-ebeb1dbdc298",
   "metadata": {},
   "source": [
    "Each term has:\n",
    "- `identifier` - a `hpotk.model.TermId` corresponding to term's CURIE \n",
    "- `name` - term's name (e.g. *\"Hypertension\"*)\n",
    "- `alt_term_ids` - alternative term IDs - term ids of obsoleted terms that have been replaced by this term\n",
    "- `is_obsolete` - obsoletion status"
   ]
  },
  {
   "cell_type": "code",
   "execution_count": 9,
   "id": "b9285dbf-4248-4fe1-821c-732dfe1c90f8",
   "metadata": {},
   "outputs": [
    {
     "name": "stdout",
     "output_type": "stream",
     "text": [
      "ID: HP:0001166\n",
      "Name: Arachnodactyly\n",
      "Alt ids: [TermId(prefix=\"HP\", id=\"0001505\")]\n",
      "Is obsolete: False\n"
     ]
    }
   ],
   "source": [
    "print(f'ID: {arachnodactyly.identifier.value}')\n",
    "print(f'Name: {arachnodactyly.name}')\n",
    "print(f'Alt ids: {arachnodactyly.alt_term_ids}')\n",
    "print(f'Is obsolete: {arachnodactyly.is_obsolete}')"
   ]
  },
  {
   "cell_type": "markdown",
   "id": "70d5ee3d-2329-4094-8b9a-1c09dde7147f",
   "metadata": {},
   "source": [
    "`get_term` always returns the primary `Term`, even for an obsolete `TermId`:"
   ]
  },
  {
   "cell_type": "code",
   "execution_count": 10,
   "id": "7763a3f8-9487-4ccc-ac20-06333fe3fd37",
   "metadata": {},
   "outputs": [],
   "source": [
    "assert o.get_term(current_arachnodactyly_id) == o.get_term(obsolete_arachnodactyly_id)"
   ]
  },
  {
   "cell_type": "markdown",
   "id": "1f1250fa-6da0-4296-85c3-6e5907916e1a",
   "metadata": {},
   "source": [
    "# Ontology algorithms\n",
    "\n",
    "`hpo-toolkit` provides several ontology algorithms.\n",
    "\n",
    "\n",
    "## Ontology traversal\n",
    "\n",
    "We can traverse the ontology hierarchy to get a `set` with parents or all ancestors of a `TermId`:"
   ]
  },
  {
   "cell_type": "code",
   "execution_count": 11,
   "id": "36dedb0d-39ac-4d58-8c83-76f9abce4598",
   "metadata": {},
   "outputs": [
    {
     "name": "stdout",
     "output_type": "stream",
     "text": [
      "HP:0100807 - Long fingers\n",
      "HP:0001238 - Slender finger\n"
     ]
    }
   ],
   "source": [
    "for parent in hpotk.algorithm.get_parents(o, current_arachnodactyly_id):\n",
    "    p = o.get_term(parent)\n",
    "    print(f\"{p.identifier.value} - {p.name}\")"
   ]
  },
  {
   "cell_type": "code",
   "execution_count": 12,
   "id": "3f2116a5-6574-4591-8134-bf2ffd9439c3",
   "metadata": {},
   "outputs": [
    {
     "name": "stdout",
     "output_type": "stream",
     "text": [
      "HP:0040068 - Abnormality of limb bone\n",
      "HP:0002817 - Abnormality of the upper limb\n",
      "HP:0100807 - Long fingers\n",
      "HP:0002813 - Abnormality of limb bone morphology\n",
      "HP:0040064 - Abnormality of limbs\n",
      "HP:0000924 - Abnormality of the skeletal system\n",
      "HP:0000118 - Phenotypic abnormality\n",
      "HP:0000001 - All\n",
      "HP:0001167 - Abnormality of finger\n",
      "HP:0001238 - Slender finger\n",
      "HP:0001155 - Abnormality of the hand\n",
      "HP:0011297 - Abnormal digit morphology\n",
      "HP:0011844 - Abnormal appendicular skeleton morphology\n",
      "HP:0011842 - Abnormal skeletal morphology\n",
      "HP:0033127 - Abnormality of the musculoskeletal system\n"
     ]
    }
   ],
   "source": [
    "for parent in hpotk.algorithm.get_ancestors(o, current_arachnodactyly_id):\n",
    "    p = o.get_term(parent)\n",
    "    print(f\"{p.identifier.value} - {p.name}\")"
   ]
  },
  {
   "cell_type": "markdown",
   "id": "a3634603-e270-4b7b-a8c1-bc4813b3066a",
   "metadata": {},
   "source": [
    "That's it for now!"
   ]
  }
 ],
 "metadata": {
  "kernelspec": {
   "display_name": "Playground (Python 3.8)",
   "language": "python",
   "name": "playground"
  },
  "language_info": {
   "codemirror_mode": {
    "name": "ipython",
    "version": 3
   },
   "file_extension": ".py",
   "mimetype": "text/x-python",
   "name": "python",
   "nbconvert_exporter": "python",
   "pygments_lexer": "ipython3",
   "version": "3.8.10"
  }
 },
 "nbformat": 4,
 "nbformat_minor": 5
}
