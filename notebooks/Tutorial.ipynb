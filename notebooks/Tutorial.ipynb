{
 "cells": [
  {
   "cell_type": "markdown",
   "id": "def60811-bf0a-4acc-b907-922824f65fc0",
   "metadata": {
    "tags": []
   },
   "source": [
    "# Hpo-toolkit tutorial\n",
    "\n",
    "This notebook shows how to install and use `hpo-toolkit` for work with Human Phenotype Ontology (HPO).\n",
    "\n",
    "## Installation\n",
    "\n",
    "The toolkit is available at [PyPi](https://pypi.org/project/hpo-toolkit), so installation with `pip` is really easy:"
   ]
  },
  {
   "cell_type": "raw",
   "id": "a78a7544-7d66-468c-b2a6-8aec166ac406",
   "metadata": {},
   "source": [
    "!pip install hpo-toolkit"
   ]
  },
  {
   "cell_type": "markdown",
   "id": "6e41fb89-d16e-427f-8e53-ec92710af8c8",
   "metadata": {},
   "source": [
    "## Load HPO\n",
    "\n",
    "`hpo-toolkit` supports reading ontologies in [Obographs](https://github.com/geneontology/obographs) JSON format.\n",
    "\n",
    "We can download and open the latest HPO from *https://raw.githubusercontent.com/obophenotype/human-phenotype-ontology/master/hp.json*"
   ]
  },
  {
   "cell_type": "code",
   "execution_count": 1,
   "id": "7df53743-202e-4786-9beb-be1322605e2b",
   "metadata": {},
   "outputs": [
    {
     "name": "stderr",
     "output_type": "stream",
     "text": [
      "2022-12-28 13:07:54,423 hpotk.util           DEBUG : Opening https://raw.githubusercontent.com/obophenotype/human-phenotype-ontology/master/hp.json\n",
      "2022-12-28 13:07:54,423 hpotk.util           DEBUG : Using default encoding 'utf-8'\n",
      "2022-12-28 13:07:54,426 hpotk.util           DEBUG : Looks like a URL: https://raw.githubusercontent.com/obophenotype/human-phenotype-ontology/master/hp.json\n",
      "2022-12-28 13:07:54,427 hpotk.util           DEBUG : Downloading with timeout=30s\n",
      "2022-12-28 13:07:54,501 hpotk.util           DEBUG : Looks like un-compressed data\n",
      "2022-12-28 13:07:55,178 hpotk.ontology.load.obographs._load DEBUG : Extracting ontology terms\n",
      "2022-12-28 13:07:55,179 hpotk.ontology.io.obographs DEBUG : Missing node type in {'id': 'http://purl.obolibrary.org/obo/GO_0000016', 'lbl': 'lactase activity'}\n",
      "2022-12-28 13:07:55,180 hpotk.ontology.io.obographs DEBUG : Missing node type in {'id': 'http://purl.obolibrary.org/obo/GO_0003857', 'lbl': '3-hydroxyacyl-CoA dehydrogenase activity'}\n",
      "2022-12-28 13:07:55,180 hpotk.ontology.io.obographs DEBUG : Missing node type in {'id': 'http://purl.obolibrary.org/obo/BFO_0000051', 'lbl': 'has part', 'meta': {'basicPropertyValues': [{'pred': 'http://www.geneontology.org/formats/oboInOwl#shorthand', 'val': 'has_part'}], 'xrefs': [{'val': 'BFO:0000051'}]}}\n",
      "2022-12-28 13:07:55,180 hpotk.ontology.io.obographs DEBUG : Missing node type in {'id': 'http://purl.obolibrary.org/obo/BFO_0000066', 'lbl': 'occurs in', 'meta': {'basicPropertyValues': [{'pred': 'http://www.geneontology.org/formats/oboInOwl#shorthand', 'val': 'occurs_in'}], 'xrefs': [{'val': 'BFO:0000066'}]}}\n",
      "2022-12-28 13:07:55,181 hpotk.ontology.io.obographs DEBUG : Missing node type in {'id': 'http://purl.obolibrary.org/obo/RO_0002503', 'lbl': 'towards', 'meta': {'basicPropertyValues': [{'pred': 'http://www.geneontology.org/formats/oboInOwl#shorthand', 'val': 'towards'}], 'xrefs': [{'val': 'RO:0002503'}]}}\n",
      "2022-12-28 13:07:55,181 hpotk.ontology.io.obographs DEBUG : Missing node type in {'id': 'http://purl.obolibrary.org/obo/RO_0002573', 'lbl': 'has modifier', 'meta': {'basicPropertyValues': [{'pred': 'http://www.geneontology.org/formats/oboInOwl#shorthand', 'val': 'qualifier'}], 'comments': ['placeholder relation to indicate normality/abnormality.'], 'xrefs': [{'val': 'RO:0002180'}]}}\n",
      "2022-12-28 13:07:55,478 hpotk.ontology.load.obographs._load DEBUG : Creating the edge list\n",
      "2022-12-28 13:07:55,544 hpotk.ontology.load.obographs._load DEBUG : Building ontology graph\n",
      "2022-12-28 13:07:55,544 hpotk.graph._factory DEBUG : Creating ontology graph from 21071 edges\n",
      "2022-12-28 13:07:55,576 hpotk.graph._factory DEBUG : Found root HP:0000001\n",
      "2022-12-28 13:07:55,612 hpotk.graph._factory DEBUG : Extracted 16810 nodes\n",
      "2022-12-28 13:07:55,613 hpotk.graph._factory DEBUG : Building a connectivity matrix\n",
      "2022-12-28 13:09:15,546 hpotk.graph._factory DEBUG : Assemblying immutable connectivity matrix\n",
      "2022-12-28 13:09:15,558 hpotk.graph._factory DEBUG : Finalizing the ontology graph\n",
      "2022-12-28 13:09:15,578 hpotk.ontology.load.obographs._load DEBUG : Assemblying the ontology\n"
     ]
    }
   ],
   "source": [
    "import hpotk\n",
    "from hpotk.ontology import Ontology\n",
    "from hpotk.ontology.load.obographs import load_ontology\n",
    "\n",
    "# to peek under the hood\n",
    "import logging\n",
    "hpotk.util.setup_logging(logging.DEBUG)\n",
    "\n",
    "hpo: Ontology = load_ontology('https://raw.githubusercontent.com/obophenotype/human-phenotype-ontology/master/hp.json')"
   ]
  },
  {
   "cell_type": "markdown",
   "id": "b7538283-1c21-44ce-bcec-cd54514938d5",
   "metadata": {},
   "source": [
    "The code downloads and reads the JSON file into `MinimalOntology` object.\n",
    "\n",
    "## `Ontology`\n",
    "\n",
    "`hpo-toolkit` provides a container ontology data. You can iterate over HPO terms by calling `hpo.terms`:"
   ]
  },
  {
   "cell_type": "code",
   "execution_count": 2,
   "id": "a7de11f9-c14f-4c7b-8b4c-2b35979b717a",
   "metadata": {},
   "outputs": [
    {
     "name": "stdout",
     "output_type": "stream",
     "text": [
      "Term(identifier=TermId(prefix=\"HP\", id=\"0000001\"), name=\"All\", definition=None, comment=Root of all terms in the Human Phenotype Ontology., is_obsolete=False, alt_term_ids=\"[]\")\n"
     ]
    }
   ],
   "source": [
    "for term in hpo.terms:\n",
    "    print(term)\n",
    "    break"
   ]
  },
  {
   "cell_type": "markdown",
   "id": "be378e14-029c-462c-8776-39b5b26abd7f",
   "metadata": {},
   "source": [
    "You can get a term by calling `get_term` method:"
   ]
  },
  {
   "cell_type": "code",
   "execution_count": 3,
   "id": "5a4465bd-0bad-4b78-be82-79a4bc1a3dfe",
   "metadata": {},
   "outputs": [
    {
     "data": {
      "text/plain": [
       "Term(identifier=TermId(prefix=\"HP\", id=\"0001166\"), name=\"Arachnodactyly\", definition=Abnormally long and slender fingers (\"spider fingers\")., comment=None, is_obsolete=False, alt_term_ids=\"[TermId(prefix=\"HP\", id=\"0001505\")]\")"
      ]
     },
     "execution_count": 3,
     "metadata": {},
     "output_type": "execute_result"
    }
   ],
   "source": [
    "hypertension = hpo.get_term(\"HP:0001166\")\n",
    "hypertension"
   ]
  },
  {
   "cell_type": "markdown",
   "id": "68f50a4f-bef6-4cfc-afbe-ebeb1dbdc298",
   "metadata": {},
   "source": [
    "Each term has:\n",
    "- `identifier` - a `hpotk.model.TermId` corresponding to term's CURIE \n",
    "- `name` - term's name (e.g. *\"Hypertension\"*)\n",
    "- `alt_term_ids` - alternative term IDs - term ids of obsoleted terms that have been replaced by this term\n",
    "- `is_obsolete` - obsoletion status"
   ]
  },
  {
   "cell_type": "code",
   "execution_count": 4,
   "id": "b8e1b6ea-bb90-4b57-8ef9-4b14312b9837",
   "metadata": {},
   "outputs": [
    {
     "data": {
      "text/plain": [
       "'HP:0001166'"
      ]
     },
     "execution_count": 4,
     "metadata": {},
     "output_type": "execute_result"
    }
   ],
   "source": [
    "hypertension.identifier.value"
   ]
  },
  {
   "cell_type": "code",
   "execution_count": 5,
   "id": "b9285dbf-4248-4fe1-821c-732dfe1c90f8",
   "metadata": {},
   "outputs": [
    {
     "name": "stdout",
     "output_type": "stream",
     "text": [
      "ID: HP:0000001\n",
      "Name: All\n",
      "Alt ids: []\n",
      "Is obsolete: False\n"
     ]
    }
   ],
   "source": [
    "print(f'ID: {term.identifier.value}')\n",
    "print(f'Name: {term.name}')\n",
    "print(f'Alt ids: {term.alt_term_ids}')\n",
    "print(f'Is obsolete: {term.is_obsolete}')"
   ]
  },
  {
   "cell_type": "code",
   "execution_count": null,
   "id": "7763a3f8-9487-4ccc-ac20-06333fe3fd37",
   "metadata": {},
   "outputs": [],
   "source": []
  }
 ],
 "metadata": {
  "kernelspec": {
   "display_name": "Playground (Python 3.8)",
   "language": "python",
   "name": "playground"
  },
  "language_info": {
   "codemirror_mode": {
    "name": "ipython",
    "version": 3
   },
   "file_extension": ".py",
   "mimetype": "text/x-python",
   "name": "python",
   "nbconvert_exporter": "python",
   "pygments_lexer": "ipython3",
   "version": "3.8.10"
  }
 },
 "nbformat": 4,
 "nbformat_minor": 5
}
