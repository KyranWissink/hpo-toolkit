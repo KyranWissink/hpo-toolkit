{
 "cells": [
  {
   "cell_type": "markdown",
   "id": "def60811-bf0a-4acc-b907-922824f65fc0",
   "metadata": {
    "tags": []
   },
   "source": [
    "**Hpo-toolkit tutorial**\n",
    "\n",
    "This notebook shows how to install and use `hpo-toolkit` for work with Human Phenotype Ontology (HPO).\n",
    "\n",
    "# Installation\n",
    "\n",
    "The toolkit is available at [PyPi](https://pypi.org/project/hpo-toolkit), so installation with `pip` is really easy:"
   ]
  },
  {
   "cell_type": "raw",
   "id": "a78a7544-7d66-468c-b2a6-8aec166ac406",
   "metadata": {},
   "source": [
    "!pip install hpo-toolkit"
   ]
  },
  {
   "cell_type": "markdown",
   "id": "6e41fb89-d16e-427f-8e53-ec92710af8c8",
   "metadata": {},
   "source": [
    "# Load HPO\n",
    "\n",
    "`hpo-toolkit` supports reading ontologies in [Obographs](https://github.com/geneontology/obographs) JSON format.\n",
    "\n",
    "We can download and open the latest HPO from *https://raw.githubusercontent.com/obophenotype/human-phenotype-ontology/master/hp.json*"
   ]
  },
  {
   "cell_type": "code",
   "execution_count": 1,
   "id": "7df53743-202e-4786-9beb-be1322605e2b",
   "metadata": {},
   "outputs": [
    {
     "name": "stderr",
     "output_type": "stream",
     "text": [
      "2023-02-28 10:15:40,870 hpotk.util           DEBUG : Opening https://raw.githubusercontent.com/obophenotype/human-phenotype-ontology/master/hp.json\n",
      "2023-02-28 10:15:40,871 hpotk.util           DEBUG : Using default encoding 'utf-8'\n",
      "2023-02-28 10:15:40,872 hpotk.util           DEBUG : Looks like a URL: https://raw.githubusercontent.com/obophenotype/human-phenotype-ontology/master/hp.json\n",
      "2023-02-28 10:15:40,872 hpotk.util           DEBUG : Downloading with timeout=30s\n",
      "2023-02-28 10:15:40,945 hpotk.util           DEBUG : Looks like un-compressed data\n",
      "2023-02-28 10:15:41,677 hpotk.ontology.load.obographs._load DEBUG : Extracting ontology terms\n",
      "2023-02-28 10:15:41,678 hpotk.ontology.io.obographs DEBUG : Missing node type in {'id': 'http://purl.obolibrary.org/obo/GO_0000016', 'lbl': 'lactase activity'}\n",
      "2023-02-28 10:15:41,678 hpotk.ontology.io.obographs DEBUG : Missing node type in {'id': 'http://purl.obolibrary.org/obo/GO_0003857', 'lbl': '3-hydroxyacyl-CoA dehydrogenase activity'}\n",
      "2023-02-28 10:15:41,678 hpotk.ontology.io.obographs DEBUG : Missing node type in {'id': 'http://purl.obolibrary.org/obo/BFO_0000051', 'lbl': 'has part', 'meta': {'basicPropertyValues': [{'pred': 'http://www.geneontology.org/formats/oboInOwl#shorthand', 'val': 'has_part'}], 'xrefs': [{'val': 'BFO:0000051'}]}}\n",
      "2023-02-28 10:15:41,679 hpotk.ontology.io.obographs DEBUG : Missing node type in {'id': 'http://purl.obolibrary.org/obo/BFO_0000066', 'lbl': 'occurs in', 'meta': {'basicPropertyValues': [{'pred': 'http://www.geneontology.org/formats/oboInOwl#shorthand', 'val': 'occurs_in'}], 'xrefs': [{'val': 'BFO:0000066'}]}}\n",
      "2023-02-28 10:15:41,679 hpotk.ontology.io.obographs DEBUG : Missing node type in {'id': 'http://purl.obolibrary.org/obo/RO_0002503', 'lbl': 'towards', 'meta': {'basicPropertyValues': [{'pred': 'http://www.geneontology.org/formats/oboInOwl#shorthand', 'val': 'towards'}], 'xrefs': [{'val': 'RO:0002503'}]}}\n",
      "2023-02-28 10:15:41,680 hpotk.ontology.io.obographs DEBUG : Missing node type in {'id': 'http://purl.obolibrary.org/obo/RO_0002573', 'lbl': 'has modifier', 'meta': {'basicPropertyValues': [{'pred': 'http://www.geneontology.org/formats/oboInOwl#shorthand', 'val': 'qualifier'}], 'comments': ['placeholder relation to indicate normality/abnormality.'], 'xrefs': [{'val': 'RO:0002180'}]}}\n",
      "2023-02-28 10:15:42,071 hpotk.ontology.load.obographs._load DEBUG : Creating the edge list\n",
      "2023-02-28 10:15:42,158 hpotk.ontology.load.obographs._load DEBUG : Building ontology graph\n",
      "2023-02-28 10:15:42,159 hpotk.graph._factory DEBUG : Creating ontology graph from 21138 edges\n",
      "2023-02-28 10:15:42,192 hpotk.graph._factory DEBUG : Found root HP:0000001\n",
      "2023-02-28 10:15:42,246 hpotk.graph._factory DEBUG : Extracted 16874 nodes\n",
      "2023-02-28 10:15:42,247 hpotk.graph._factory DEBUG : Building sparse adjacency matrix\n",
      "2023-02-28 10:16:15,196 hpotk.graph._factory DEBUG : Assembling the adjacency matrix\n",
      "2023-02-28 10:16:15,206 hpotk.graph._factory DEBUG : Finalizing the ontology graph\n",
      "2023-02-28 10:16:15,221 hpotk.ontology.load.obographs._load DEBUG : Assembling the ontology\n"
     ]
    }
   ],
   "source": [
    "import hpotk\n",
    "from hpotk.ontology import Ontology\n",
    "from hpotk.ontology.load.obographs import load_ontology\n",
    "\n",
    "# to peek under the hood\n",
    "import logging\n",
    "hpotk.util.setup_logging(logging.DEBUG)\n",
    "\n",
    "o: Ontology = load_ontology('https://raw.githubusercontent.com/obophenotype/human-phenotype-ontology/master/hp.json')"
   ]
  },
  {
   "cell_type": "markdown",
   "id": "9f42c509-c889-42a1-b539-c95f2abeff74",
   "metadata": {},
   "source": [
    "The code downloads the latest HPO JSON file and creates the file into `Ontology`.\n",
    "\n",
    "# `Ontology`\n",
    "\n",
    "`hpo-toolkit` provides  - a container for ontology data and several data structures for modeling ontology data.\n",
    "- `TermId` - an identifier of an ontology concept.\n",
    "- `Term` - a class for representing ontology concept data\n",
    "- `OntologyGraph` - graph for storing hierarchy between ontology concepts\n",
    "- `Ontology` - a top-level container consisting of an `OntologyGraph`, non-obsolete `Term`s, and all (primary and obsolete) `TermId`s of an ontology, along with additional metadata."
   ]
  },
  {
   "cell_type": "markdown",
   "id": "db15d7f4-8e17-4806-8d8e-da43738e2c63",
   "metadata": {},
   "source": [
    "This section provides an overview of `hpo-toolkit`s functionality.\n",
    "\n",
    "## Get all `Term`s and `TermId`s\n",
    "\n",
    "All `TermId`s, both primary and obsolete can be iterated over via `o.term_ids` property:"
   ]
  },
  {
   "cell_type": "code",
   "execution_count": 2,
   "id": "3808f2a0-607d-49ac-b6d3-299cc37c04a4",
   "metadata": {},
   "outputs": [
    {
     "name": "stdout",
     "output_type": "stream",
     "text": [
      "TermId(prefix=\"HP\", id=\"0000001\")\n"
     ]
    }
   ],
   "source": [
    "print(next(iter(o.term_ids)))"
   ]
  },
  {
   "cell_type": "markdown",
   "id": "5f2e0318-98d6-412f-94cd-88a38dd2f2de",
   "metadata": {},
   "source": [
    "Similarly, you can iterate over ontology `Term`s via `hpo.terms`:"
   ]
  },
  {
   "cell_type": "code",
   "execution_count": 3,
   "id": "a7de11f9-c14f-4c7b-8b4c-2b35979b717a",
   "metadata": {},
   "outputs": [
    {
     "name": "stdout",
     "output_type": "stream",
     "text": [
      "Term(identifier=TermId(prefix=\"HP\", id=\"0000001\"), name=\"All\", definition=None, comment=Root of all terms in the Human Phenotype Ontology., is_obsolete=False, alt_term_ids=\"[]\")\n"
     ]
    }
   ],
   "source": [
    "print(next(iter(o.terms)))"
   ]
  },
  {
   "cell_type": "markdown",
   "id": "e15c75f3-4578-4a08-a7eb-3b5ff45b30f4",
   "metadata": {},
   "source": [
    "and get the number of the primary (non-obsolete) `Term`s:"
   ]
  },
  {
   "cell_type": "code",
   "execution_count": 4,
   "id": "3984e0ab-4540-4f78-b575-e7d18987a57b",
   "metadata": {},
   "outputs": [
    {
     "data": {
      "text/plain": [
       "16874"
      ]
     },
     "execution_count": 4,
     "metadata": {},
     "output_type": "execute_result"
    }
   ],
   "source": [
    "len(o)"
   ]
  },
  {
   "cell_type": "markdown",
   "id": "fc5d1682-cbe0-4b9d-8d2d-77b8668e9a7f",
   "metadata": {},
   "source": [
    "## Query `Term`\n",
    "\n",
    "### Test presence of a `TermId` in the ontology\n",
    "\n",
    "Presence of a `TermId` can be tested in the same fashion as you would test the presence of an element in a Python container:"
   ]
  },
  {
   "cell_type": "code",
   "execution_count": 5,
   "id": "c986d756-6b64-400a-acf0-1e1215dd5149",
   "metadata": {},
   "outputs": [],
   "source": [
    "current_arachnodactyly_id = \"HP:0001166\"  # as of Dec 28th, 2022\n",
    "\n",
    "assert current_arachnodactyly_id in o"
   ]
  },
  {
   "cell_type": "markdown",
   "id": "cead94e2-39b1-4b4a-a8b4-8e8a09a92367",
   "metadata": {},
   "source": [
    "The test works both for primary and obsolete `TermId`s:"
   ]
  },
  {
   "cell_type": "code",
   "execution_count": 6,
   "id": "d33352e5-ecc4-4246-bca4-4f537bdcd921",
   "metadata": {},
   "outputs": [],
   "source": [
    "obsolete_arachnodactyly_id = \"HP:0001505\"\n",
    "\n",
    "assert obsolete_arachnodactyly_id in o"
   ]
  },
  {
   "cell_type": "markdown",
   "id": "bc6012bc-f8e5-4cc7-918a-069c92fd4e62",
   "metadata": {},
   "source": [
    "Queries work with a simple CURIE `str` (e.g. `HP:0001166`) or a `TermId`:"
   ]
  },
  {
   "cell_type": "code",
   "execution_count": 7,
   "id": "b1d6b18d-b073-4e04-85ee-4f8198da149e",
   "metadata": {},
   "outputs": [],
   "source": [
    "from hpotk.model import TermId\n",
    "assert current_arachnodactyly_id in o and TermId.from_curie(current_arachnodactyly_id) in o"
   ]
  },
  {
   "cell_type": "markdown",
   "id": "10ff2cc9-bb32-4c7e-9952-0402cd9f8543",
   "metadata": {},
   "source": [
    "### Get a specific `Term`\n",
    "\n",
    "Use the `get_term` method to get ahold of a specific `Term`:"
   ]
  },
  {
   "cell_type": "code",
   "execution_count": 8,
   "id": "5a4465bd-0bad-4b78-be82-79a4bc1a3dfe",
   "metadata": {},
   "outputs": [
    {
     "data": {
      "text/plain": [
       "Term(identifier=TermId(prefix=\"HP\", id=\"0001166\"), name=\"Arachnodactyly\", definition=Abnormally long and slender fingers (\"spider fingers\")., comment=None, is_obsolete=False, alt_term_ids=\"[TermId(prefix=\"HP\", id=\"0001505\")]\")"
      ]
     },
     "execution_count": 8,
     "metadata": {},
     "output_type": "execute_result"
    }
   ],
   "source": [
    "arachnodactyly = o.get_term(current_arachnodactyly_id)\n",
    "arachnodactyly"
   ]
  },
  {
   "cell_type": "markdown",
   "id": "68f50a4f-bef6-4cfc-afbe-ebeb1dbdc298",
   "metadata": {},
   "source": [
    "Each term has:\n",
    "- `identifier` - a `hpotk.model.TermId` corresponding to term's CURIE \n",
    "- `name` - term's name (e.g. *\"Hypertension\"*)\n",
    "- `alt_term_ids` - alternative term IDs - term ids of obsoleted terms that have been replaced by this term\n",
    "- `is_obsolete` - obsoletion status"
   ]
  },
  {
   "cell_type": "code",
   "execution_count": 9,
   "id": "b9285dbf-4248-4fe1-821c-732dfe1c90f8",
   "metadata": {},
   "outputs": [
    {
     "name": "stdout",
     "output_type": "stream",
     "text": [
      "ID: HP:0001166\n",
      "Name: Arachnodactyly\n",
      "Alt ids: [TermId(prefix=\"HP\", id=\"0001505\")]\n",
      "Is obsolete: False\n"
     ]
    }
   ],
   "source": [
    "print(f'ID: {arachnodactyly.identifier.value}')\n",
    "print(f'Name: {arachnodactyly.name}')\n",
    "print(f'Alt ids: {arachnodactyly.alt_term_ids}')\n",
    "print(f'Is obsolete: {arachnodactyly.is_obsolete}')"
   ]
  },
  {
   "cell_type": "markdown",
   "id": "70d5ee3d-2329-4094-8b9a-1c09dde7147f",
   "metadata": {},
   "source": [
    "`get_term` always returns the primary `Term`, even for an obsolete `TermId`:"
   ]
  },
  {
   "cell_type": "code",
   "execution_count": 10,
   "id": "7763a3f8-9487-4ccc-ac20-06333fe3fd37",
   "metadata": {},
   "outputs": [],
   "source": [
    "assert o.get_term(current_arachnodactyly_id) == o.get_term(obsolete_arachnodactyly_id)"
   ]
  },
  {
   "cell_type": "markdown",
   "id": "1f1250fa-6da0-4296-85c3-6e5907916e1a",
   "metadata": {},
   "source": [
    "# Ontology algorithms\n",
    "\n",
    "`hpotk.algorithm` provides several ontology algorithms.\n",
    "\n",
    "## Ontology traversal\n",
    "\n",
    "Use `get_parents` and `get_ancestors` to get a `set` with *parents* or *ancestors* of a `TermId`:"
   ]
  },
  {
   "cell_type": "code",
   "execution_count": 11,
   "id": "fd90ffa7-9cd4-4557-8c36-e7c1ba7b5c64",
   "metadata": {},
   "outputs": [
    {
     "name": "stdout",
     "output_type": "stream",
     "text": [
      "#################### Parents ####################\n",
      "HP:0001238 - Slender finger\n",
      "HP:0100807 - Long fingers\n",
      "\n",
      "#################### Ancestors ##################\n",
      "HP:0011842 - Abnormal skeletal morphology\n",
      "HP:0002817 - Abnormality of the upper limb\n",
      "HP:0033127 - Abnormality of the musculoskeletal system\n",
      "HP:0000118 - Phenotypic abnormality\n",
      "HP:0002813 - Abnormality of limb bone morphology\n",
      "HP:0040064 - Abnormality of limbs\n",
      "HP:0001167 - Abnormality of finger\n",
      "HP:0011297 - Abnormal digit morphology\n",
      "HP:0001238 - Slender finger\n",
      "HP:0040068 - Abnormality of limb bone\n",
      "HP:0000001 - All\n",
      "HP:0001155 - Abnormality of the hand\n",
      "HP:0000924 - Abnormality of the skeletal system\n",
      "HP:0100807 - Long fingers\n",
      "HP:0011844 - Abnormal appendicular skeleton morphology\n"
     ]
    }
   ],
   "source": [
    "print('#' * 20 + ' Parents ' + '#' * 20)\n",
    "for parent in hpotk.algorithm.get_parents(o, current_arachnodactyly_id):\n",
    "    term = o.get_term(parent)\n",
    "    print(f\"{term.identifier.value} - {term.name}\")\n",
    "\n",
    "print('\\n'+'#' * 20 + ' Ancestors ' + '#' * 18)\n",
    "for parent in hpotk.algorithm.get_ancestors(o, current_arachnodactyly_id):\n",
    "    term = o.get_term(parent)\n",
    "    print(f\"{term.identifier.value} - {term.name}\")"
   ]
  },
  {
   "cell_type": "markdown",
   "id": "e238c177-3e72-406f-b1e3-450373c6aa31",
   "metadata": {},
   "source": [
    "In a similar fashion, we get the *children* or *descendants* by calling `get_children` and `get_descendants`:"
   ]
  },
  {
   "cell_type": "code",
   "execution_count": 12,
   "id": "e74d9f8c-20af-4a1d-a8b2-81ec90708b30",
   "metadata": {
    "tags": []
   },
   "outputs": [
    {
     "name": "stdout",
     "output_type": "stream",
     "text": [
      "#################### Children ####################\n",
      "HP:0001182 - Tapered finger\n",
      "HP:0001166 - Arachnodactyly\n",
      "\n",
      "#################### Descendants #################\n",
      "HP:0001032 - Absent distal interphalangeal creases\n",
      "HP:0006077 - Absent proximal finger flexion creases\n",
      "HP:0005780 - Absent fourth finger distal interphalangeal crease\n",
      "HP:0006216 - Single interphalangeal crease of fifth finger\n"
     ]
    }
   ],
   "source": [
    "print('#' * 20 + ' Children ' + '#' * 20)\n",
    "for child in hpotk.algorithm.get_children(o, 'HP:0100807'):  # Long fingers\n",
    "    term = o.get_term(child)\n",
    "    print(f\"{term.identifier.value} - {term.name}\")\n",
    "    \n",
    "print('\\n'+'#' * 20 + ' Descendants ' + '#' * 17)\n",
    "for descendant in hpotk.algorithm.get_descendants(o, 'HP:0006109'):  # Absent phalangeal crease \n",
    "    term = o.get_term(descendant)\n",
    "    print(f\"{term.identifier.value} - {term.name}\")"
   ]
  },
  {
   "cell_type": "markdown",
   "id": "a94bcf99-fb72-4b83-bc3d-805fd7a30cb6",
   "metadata": {},
   "source": [
    "# Validation\n",
    "\n",
    "The toolkit provides functions for performing multiple sanity checks.\n",
    "\n",
    "## Obsolete term IDs\n",
    "\n",
    "We should always use the primary term IDs instead of the obsolete terms.\n",
    "\n",
    "`HP:0100807` and `HP:0006010` are the primary and obsolete term IDs for *Long fingers*. \n",
    "The `ObsoleteTermIdsValidator` points out usage of the obsolete term:"
   ]
  },
  {
   "cell_type": "code",
   "execution_count": 13,
   "id": "3b2f58cc-e008-4153-96b5-1abbd4db9e47",
   "metadata": {},
   "outputs": [],
   "source": [
    "from hpotk.model import MinimalTerm\n",
    "\n",
    "from hpotk.validate import ValidationLevel\n",
    "from hpotk.validate import ObsoleteTermIdsValidator\n",
    "\n",
    "obso_validator = ObsoleteTermIdsValidator(o)\n",
    "\n",
    "# The term uses an obsolete term ID `HP:0006010` instead of the current `HP:0100807`.\n",
    "inputs = [\n",
    "    MinimalTerm.create_minimal_term(TermId.from_curie('HP:0006010'), name='Long fingers', alt_term_ids=[], is_obsolete=False)\n",
    "]\n",
    "results = obso_validator.validate(inputs)\n",
    "\n",
    "# At least one error or warning was found\n",
    "assert results.is_ok() == False\n",
    "\n",
    "# A sequence of errors/warnings is availabe via `results` property\n",
    "assert len(results.results) == 1\n",
    "\n",
    "validation_result = results.results[0]\n",
    "\n",
    "# Obsolete term ID is a warning. The toolkit can map the term ID to the primary term ID and use it in the downstream analyses\n",
    "assert validation_result.level == ValidationLevel.WARNING\n",
    "\n",
    "# A unique ID of the validation check\n",
    "assert validation_result.category == 'obsolete_term_id_is_used'\n",
    "\n",
    "# A message for human consumption\n",
    "assert validation_result.message == 'Using the obsolete HP:0006010 instead of HP:0100807 for Long fingers'"
   ]
  },
  {
   "cell_type": "markdown",
   "id": "0d3f8049-0c39-49fc-a27e-889d3bb3bb12",
   "metadata": {},
   "source": [
    "## Violation of the annotation propagation rule\n",
    "\n"
   ]
  },
  {
   "cell_type": "code",
   "execution_count": 14,
   "id": "0e668a54-c146-47be-921e-72ab29ee7d28",
   "metadata": {},
   "outputs": [],
   "source": [
    "from hpotk.validate import AnnotationPropagationValidator\n",
    "\n",
    "# Long fingers is a parent of Arachnodactyly\n",
    "inputs = [\n",
    "    MinimalTerm.create_minimal_term(TermId.from_curie('HP:0001166'), name='Arachnodactyly', alt_term_ids=[], is_obsolete=False),\n",
    "    MinimalTerm.create_minimal_term(TermId.from_curie('HP:0100807'), name='Long fingers', alt_term_ids=[], is_obsolete=False)\n",
    "]\n",
    "\n",
    "ap_validator = AnnotationPropagationValidator(o)\n",
    "results = ap_validator.validate(inputs)\n",
    "\n",
    "val_result = results.results[0]\n",
    "\n",
    "# Violation of the annotation propagation rule is an ERROR.\n",
    "# Most analyses will yield biased/incorrect results when using both the term and its ancestor.\n",
    "assert val_result.level == ValidationLevel.ERROR\n",
    "\n",
    "# A unique ID of the validation check\n",
    "assert val_result.category == 'annotation_propagation'\n",
    "\n",
    "# A message for human consumption\n",
    "assert val_result.message == 'Terms should not contain both Arachnodactyly [HP:0001166] and its ancestor Long fingers [HP:0100807]'"
   ]
  },
  {
   "cell_type": "markdown",
   "id": "d4352e03-9141-4d2d-8ab7-3b33b6f0e218",
   "metadata": {},
   "source": [
    "## Terms are phenotypic features\n",
    "\n",
    "Most algorithms require a list of phenotypic features (i.e. descendants of [Phenotypic abnormality](https://hpo.jax.org/app/browse/term/HP:0000118)) \n",
    "but HPO contains terms that are does not represent phenotypic abnormality, such as [Clinical modifier](https://hpo.jax.org/app/browse/term/HP:0012823), [Mode of inheritance](https://hpo.jax.org/app/browse/term/HP:0000005), etc.\n",
    "\n",
    "`PhenotypicAbnormalityValidator` reports all terms that are not descendants of [Phenotypic abnormality](https://hpo.jax.org/app/browse/term/HP:0000118)."
   ]
  },
  {
   "cell_type": "code",
   "execution_count": 15,
   "id": "b575229e-1c08-4d02-aaa3-012c9a8c80bd",
   "metadata": {},
   "outputs": [],
   "source": [
    "from hpotk.validate import PhenotypicAbnormalityValidator\n",
    "\n",
    "# Long fingers is a parent of Arachnodactyly\n",
    "inputs = [\n",
    "    MinimalTerm.create_minimal_term(TermId.from_curie('HP:0000007'), name='Autosomal recessive inheritance', alt_term_ids=[], is_obsolete=False),\n",
    "    MinimalTerm.create_minimal_term(TermId.from_curie('HP:0100807'), name='Long fingers', alt_term_ids=[], is_obsolete=False)\n",
    "]\n",
    "\n",
    "pa_validator = PhenotypicAbnormalityValidator(o)\n",
    "results = pa_validator.validate(inputs)\n",
    "\n",
    "val_result = results.results[0]\n",
    "\n",
    "# Using non-phenotypic abnormality is an ERROR.\n",
    "assert val_result.level == ValidationLevel.ERROR\n",
    "\n",
    "# A unique ID of the validation check\n",
    "assert val_result.category == 'phenotypic_abnormality_descendant'\n",
    "\n",
    "# A message for human consumption\n",
    "assert val_result.message == 'Autosomal recessive inheritance [HP:0000007] is not a descendant of Phenotypic abnormality [HP:0000118]'"
   ]
  },
  {
   "cell_type": "markdown",
   "id": "b5632af0-339d-4de1-ad82-9aea62e67f8c",
   "metadata": {},
   "source": [
    "## Perform multiple checks at the same time\n",
    "\n",
    "The checks can be performed individually, as described in the previous sections, or together within a single validation run using `ValidationRunner`."
   ]
  },
  {
   "cell_type": "code",
   "execution_count": 16,
   "id": "654026c8-0e98-45ee-b245-0fa72f8498c3",
   "metadata": {},
   "outputs": [
    {
     "name": "stdout",
     "output_type": "stream",
     "text": [
      "Using the obsolete HP:0006010 instead of HP:0100807 for Long fingers\n",
      "Terms should not contain both Arachnodactyly [HP:0001166] and its ancestor Long fingers [HP:0100807]\n",
      "Autosomal recessive inheritance [HP:0000007] is not a descendant of Phenotypic abnormality [HP:0000118]\n"
     ]
    }
   ],
   "source": [
    "from hpotk.validate import ValidationRunner\n",
    "\n",
    "inputs = [\n",
    "    MinimalTerm.create_minimal_term(TermId.from_curie('HP:0000007'), name='Autosomal recessive inheritance', alt_term_ids=[], is_obsolete=False),\n",
    "    MinimalTerm.create_minimal_term(TermId.from_curie('HP:0006010'), name='Long fingers', alt_term_ids=[], is_obsolete=False),\n",
    "    MinimalTerm.create_minimal_term(TermId.from_curie('HP:0001166'), name='Arachnodactyly', alt_term_ids=[], is_obsolete=False),\n",
    "]\n",
    "\n",
    "runner = ValidationRunner(validators=[obso_validator, ap_validator, pa_validator])\n",
    "results = runner.validate_all(inputs)\n",
    "for issue in results.results:\n",
    "    print(issue.message)"
   ]
  },
  {
   "cell_type": "markdown",
   "id": "8f505032-013b-4cd3-a098-4d60834c3696",
   "metadata": {},
   "source": [
    "# HPO constants\n",
    "\n",
    "The toolkit provides `TermId`s of the well-established and stable HPO concepts.\n",
    "\n",
    "## Base terms\n",
    "\n",
    "The terms that define the first level of HPO hierarchy (e.g. [Phenotypic abnormality](https://hpo.jax.org/app/browse/term/HP:0000118)):"
   ]
  },
  {
   "cell_type": "code",
   "execution_count": 17,
   "id": "215903d1-5c3f-4b0f-8fa0-486ef272f5a8",
   "metadata": {},
   "outputs": [
    {
     "data": {
      "text/plain": [
       "TermId(prefix=\"HP\", id=\"0000118\")"
      ]
     },
     "execution_count": 17,
     "metadata": {},
     "output_type": "execute_result"
    }
   ],
   "source": [
    "from hpotk.constants.hpo.base import PHENOTYPIC_ABNORMALITY\n",
    "PHENOTYPIC_ABNORMALITY"
   ]
  },
  {
   "cell_type": "markdown",
   "id": "d9c7c354-aab7-49f7-b7d8-e25eba3c6c8c",
   "metadata": {},
   "source": [
    "## Frequency\n",
    "\n",
    "Concepts to represent frequency of phenotypic abnormalities within a patient cohort, the children of [Frequency](https://hpo.jax.org/app/browse/term/HP:0040279) (e.g. [Occasional](https://hpo.jax.org/app/browse/term/HP:0040283)):"
   ]
  },
  {
   "cell_type": "code",
   "execution_count": 18,
   "id": "0b1e1b30-e70e-4ec9-89c9-5c702d24ea25",
   "metadata": {},
   "outputs": [
    {
     "data": {
      "text/plain": [
       "TermId(prefix=\"HP\", id=\"0040283\")"
      ]
     },
     "execution_count": 18,
     "metadata": {},
     "output_type": "execute_result"
    }
   ],
   "source": [
    "from hpotk.constants.hpo.frequency import OCCASIONAL\n",
    "OCCASIONAL"
   ]
  },
  {
   "cell_type": "markdown",
   "id": "3d646525-854d-4b8a-bf49-f40f4eb0a977",
   "metadata": {},
   "source": [
    "## Inheritance\n",
    "\n",
    "Selected descendents of [Mode of inheritance](https://hpo.jax.org/app/browse/term/HP:0000005) (e.g. [Autosomal dominant inheritance](https://hpo.jax.org/app/browse/term/HP:0000006)):"
   ]
  },
  {
   "cell_type": "code",
   "execution_count": 19,
   "id": "7daaab3e-6ead-4230-88d5-b8c080b3730b",
   "metadata": {},
   "outputs": [
    {
     "data": {
      "text/plain": [
       "TermId(prefix=\"HP\", id=\"0000006\")"
      ]
     },
     "execution_count": 19,
     "metadata": {},
     "output_type": "execute_result"
    }
   ],
   "source": [
    "from hpotk.constants.hpo.inheritance import AUTOSOMAL_DOMINANT_INHERITANCE\n",
    "AUTOSOMAL_DOMINANT_INHERITANCE"
   ]
  },
  {
   "cell_type": "markdown",
   "id": "b84fb3f0-5cb0-4ccd-bfea-698896e5bbbd",
   "metadata": {},
   "source": [
    "## Onset\n",
    "\n",
    "All descendents of [Onset](https://hpo.jax.org/app/browse/term/HP:0003674) (e.g. [Congenital onset](https://hpo.jax.org/app/browse/term/HP:0003577)):"
   ]
  },
  {
   "cell_type": "code",
   "execution_count": 20,
   "id": "d7bf2281-d8ed-4373-b094-ef7df0c60aa8",
   "metadata": {},
   "outputs": [
    {
     "data": {
      "text/plain": [
       "TermId(prefix=\"HP\", id=\"0003577\")"
      ]
     },
     "execution_count": 20,
     "metadata": {},
     "output_type": "execute_result"
    }
   ],
   "source": [
    "from hpotk.constants.hpo.onset import CONGENITAL_ONSET\n",
    "CONGENITAL_ONSET"
   ]
  },
  {
   "cell_type": "markdown",
   "id": "b4c4ce00-09ec-4860-ad08-2353cb2a4df0",
   "metadata": {},
   "source": [
    "## Organ system\n",
    "\n",
    "Children of [Phenotypic abnormality](https://hpo.jax.org/app/browse/term/HP:0000118) that correspond to abnormalities of organ systems (e.g. [Abnormality of the ear](https://hpo.jax.org/app/browse/term/HP:0000598)):"
   ]
  },
  {
   "cell_type": "code",
   "execution_count": 21,
   "id": "2ddccd09-43d8-448d-8df1-f55ae8eeb658",
   "metadata": {},
   "outputs": [
    {
     "data": {
      "text/plain": [
       "TermId(prefix=\"HP\", id=\"0000598\")"
      ]
     },
     "execution_count": 21,
     "metadata": {},
     "output_type": "execute_result"
    }
   ],
   "source": [
    "from hpotk.constants.hpo.organ_system import ABNORMALITY_OF_THE_EAR\n",
    "ABNORMALITY_OF_THE_EAR"
   ]
  },
  {
   "cell_type": "markdown",
   "id": "51c144fc-39aa-4a39-abff-44d2f8b27c10",
   "metadata": {},
   "source": [
    "## Severity\n",
    "\n",
    "All descendents of [Severity](https://hpo.jax.org/app/browse/term/HP:0012824) (e.g. [Mild](https://hpo.jax.org/app/browse/term/HP:0012825)):"
   ]
  },
  {
   "cell_type": "code",
   "execution_count": 22,
   "id": "0c183a9c-802b-43a1-8bf9-b0e81e5a26f1",
   "metadata": {},
   "outputs": [
    {
     "data": {
      "text/plain": [
       "TermId(prefix=\"HP\", id=\"0012825\")"
      ]
     },
     "execution_count": 22,
     "metadata": {},
     "output_type": "execute_result"
    }
   ],
   "source": [
    "from hpotk.constants.hpo.severity import MILD\n",
    "MILD"
   ]
  },
  {
   "cell_type": "markdown",
   "id": "a3634603-e270-4b7b-a8c1-bc4813b3066a",
   "metadata": {},
   "source": [
    "That's it for now!"
   ]
  }
 ],
 "metadata": {
  "kernelspec": {
   "display_name": "HPO Toolkit (Python 3.10)",
   "language": "python",
   "name": "hpotk"
  },
  "language_info": {
   "codemirror_mode": {
    "name": "ipython",
    "version": 3
   },
   "file_extension": ".py",
   "mimetype": "text/x-python",
   "name": "python",
   "nbconvert_exporter": "python",
   "pygments_lexer": "ipython3",
   "version": "3.10.6"
  }
 },
 "nbformat": 4,
 "nbformat_minor": 5
}
